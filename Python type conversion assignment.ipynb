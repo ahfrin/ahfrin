{
 "cells": [
  {
   "cell_type": "code",
   "execution_count": null,
   "id": "ea123bbb-2c47-4159-bb6d-70237beb69f8",
   "metadata": {},
   "outputs": [],
   "source": [
    "#1.convert an integer to a floating-point number"
   ]
  },
  {
   "cell_type": "code",
   "execution_count": 6,
   "id": "5e23c19c-3b6f-4dc6-bc74-e4abbca23fff",
   "metadata": {},
   "outputs": [
    {
     "name": "stdout",
     "output_type": "stream",
     "text": [
      "56.0\n"
     ]
    }
   ],
   "source": [
    "a=int(56)\n",
    "b=float(a)\n",
    "print(b)"
   ]
  },
  {
   "cell_type": "code",
   "execution_count": null,
   "id": "2b2a5288-aacc-4c1e-88e6-5f62a2b81e22",
   "metadata": {},
   "outputs": [],
   "source": [
    "#2.convert a float to an integer"
   ]
  },
  {
   "cell_type": "code",
   "execution_count": 1,
   "id": "78dcf7d7-d00f-4d08-be9e-592923309a02",
   "metadata": {},
   "outputs": [
    {
     "name": "stdout",
     "output_type": "stream",
     "text": [
      "99\n"
     ]
    }
   ],
   "source": [
    "c=float(99.98)\n",
    "d=int(c)\n",
    "print(d)"
   ]
  },
  {
   "cell_type": "code",
   "execution_count": null,
   "id": "d1fe7a3b-93e5-4cc4-a55e-2a97f32d41c2",
   "metadata": {},
   "outputs": [],
   "source": [
    "#3.convert an integer to a string"
   ]
  },
  {
   "cell_type": "code",
   "execution_count": 2,
   "id": "095966a5-0ac0-4505-b54f-8c123b654fd6",
   "metadata": {},
   "outputs": [
    {
     "name": "stdout",
     "output_type": "stream",
     "text": [
      "45\n"
     ]
    }
   ],
   "source": [
    "e=int(45)\n",
    "f=str(e)\n",
    "print(f)"
   ]
  },
  {
   "cell_type": "code",
   "execution_count": null,
   "id": "f5c20b74-6192-48dd-9dfe-eb20d12fc9b0",
   "metadata": {},
   "outputs": [],
   "source": [
    "#4.convert a list to a tuple"
   ]
  },
  {
   "cell_type": "code",
   "execution_count": 7,
   "id": "624b85d6-0eb8-4a2c-9c86-a0a524cf0132",
   "metadata": {},
   "outputs": [
    {
     "name": "stdout",
     "output_type": "stream",
     "text": [
      "('Apple', 'Banana', 'Orange', 'Guava')\n"
     ]
    }
   ],
   "source": [
    "fruits=[\"Apple\",\"Banana\",\"Orange\",\"Guava\"]\n",
    "my_fruits=tuple(fruits)\n",
    "print(my_fruits)"
   ]
  },
  {
   "cell_type": "code",
   "execution_count": null,
   "id": "66529825-2558-4983-991f-279d32691cb9",
   "metadata": {},
   "outputs": [],
   "source": [
    "#5.convert tuple to a list"
   ]
  },
  {
   "cell_type": "code",
   "execution_count": 8,
   "id": "088b7bf2-d294-4725-8de8-a35dc1ae3fa0",
   "metadata": {},
   "outputs": [
    {
     "name": "stdout",
     "output_type": "stream",
     "text": [
      "['cauliflower', 'Brinjal', 'potata', 'cabbage']\n"
     ]
    }
   ],
   "source": [
    "vegetables=(\"cauliflower\", \"Brinjal\", \"potata\", \"cabbage\")\n",
    "my_vegetables=list(vegetables)\n",
    "print(my_vegetables)"
   ]
  },
  {
   "cell_type": "code",
   "execution_count": null,
   "id": "014efa5f-863d-42c6-8892-0a4cdfe133e2",
   "metadata": {},
   "outputs": [],
   "source": [
    "#6.convert a decimal number to binary"
   ]
  },
  {
   "cell_type": "code",
   "execution_count": 10,
   "id": "d10cf377-2ba9-489d-a7da-03937020f6a5",
   "metadata": {},
   "outputs": [
    {
     "name": "stdout",
     "output_type": "stream",
     "text": [
      "0b1010111\n"
     ]
    }
   ],
   "source": [
    "g=int(87.87)\n",
    "h=bin(g)\n",
    "print(h)"
   ]
  },
  {
   "cell_type": "code",
   "execution_count": null,
   "id": "03f2a70a-6378-44b3-b2c4-80c1229c1be8",
   "metadata": {},
   "outputs": [],
   "source": [
    "#7.convert a non-zero number to boolean"
   ]
  },
  {
   "cell_type": "code",
   "execution_count": 11,
   "id": "7bd9fcd3-5aae-43c7-9a94-943654ff7c3a",
   "metadata": {},
   "outputs": [
    {
     "name": "stdout",
     "output_type": "stream",
     "text": [
      "True\n"
     ]
    }
   ],
   "source": [
    "i=int(12)\n",
    "j=bool(i)\n",
    "print(j)"
   ]
  },
  {
   "cell_type": "code",
   "execution_count": 24,
   "id": "01f4453f-208d-49fa-9f2c-e15d8a6fbeb5",
   "metadata": {},
   "outputs": [
    {
     "data": {
      "text/plain": [
       "bool"
      ]
     },
     "execution_count": 24,
     "metadata": {},
     "output_type": "execute_result"
    }
   ],
   "source": [
    "type(j)"
   ]
  },
  {
   "cell_type": "code",
   "execution_count": null,
   "id": "8d069e6b-d3c9-4b77-83ac-2831f77657ff",
   "metadata": {},
   "outputs": [],
   "source": []
  }
 ],
 "metadata": {
  "kernelspec": {
   "display_name": "Python 3 (ipykernel)",
   "language": "python",
   "name": "python3"
  },
  "language_info": {
   "codemirror_mode": {
    "name": "ipython",
    "version": 3
   },
   "file_extension": ".py",
   "mimetype": "text/x-python",
   "name": "python",
   "nbconvert_exporter": "python",
   "pygments_lexer": "ipython3",
   "version": "3.10.8"
  }
 },
 "nbformat": 4,
 "nbformat_minor": 5
}

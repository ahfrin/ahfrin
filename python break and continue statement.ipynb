{
 "cells": [
  {
   "cell_type": "code",
   "execution_count": null,
   "id": "233fe844-63cb-4490-ac6c-afc7db38e831",
   "metadata": {},
   "outputs": [],
   "source": [
    "#1.Write a program to print numbers from 1 to 10, but stop if the number is 5. "
   ]
  },
  {
   "cell_type": "code",
   "execution_count": 1,
   "id": "ed546ca1-e3f5-4f6a-a6ea-935a5f74a3e4",
   "metadata": {},
   "outputs": [
    {
     "name": "stdout",
     "output_type": "stream",
     "text": [
      "1\n",
      "2\n",
      "3\n",
      "4\n"
     ]
    }
   ],
   "source": [
    "n=10\n",
    "i=1\n",
    "while i<=n:\n",
    "    print(i)\n",
    "    i=i+1\n",
    "    if i==5:\n",
    "        break"
   ]
  },
  {
   "cell_type": "code",
   "execution_count": null,
   "id": "d1a3d7ca-4cf0-4905-8016-6ea5922dcc57",
   "metadata": {},
   "outputs": [],
   "source": [
    "#2. Write a program to iterate through a list and stop when encountering a specific element. "
   ]
  },
  {
   "cell_type": "code",
   "execution_count": 2,
   "id": "32a74563-7ae9-4230-83b0-926e688487b0",
   "metadata": {},
   "outputs": [
    {
     "name": "stdout",
     "output_type": "stream",
     "text": [
      "apple\n",
      "banana\n",
      "orange\n",
      "pineapple\n",
      "litchi\n"
     ]
    }
   ],
   "source": [
    "fruits=[\"apple\", \"banana\", \"orange\", \"pineapple\", \"litchi\", \"guava\", \"grapes\", \"watermelon\", \"blueberries\"]\n",
    "for i in fruits:\n",
    "    if i==\"guava\":\n",
    "        break\n",
    "    print(i)"
   ]
  },
  {
   "cell_type": "code",
   "execution_count": null,
   "id": "132a5002-9efc-48bc-afe6-00c57d537939",
   "metadata": {},
   "outputs": [],
   "source": [
    "#3.Write a program to skip printing even numbers from 1 to 10."
   ]
  },
  {
   "cell_type": "code",
   "execution_count": 3,
   "id": "81afaced-1d4d-4767-bfbe-2c4ad79e4597",
   "metadata": {},
   "outputs": [
    {
     "data": {
      "text/plain": [
       "[1, 3, 5, 7, 9]"
      ]
     },
     "execution_count": 3,
     "metadata": {},
     "output_type": "execute_result"
    }
   ],
   "source": [
    "list(range(1,10,2))"
   ]
  },
  {
   "cell_type": "code",
   "execution_count": null,
   "id": "b63117a9-a46a-45f8-a440-db8587630dba",
   "metadata": {},
   "outputs": [],
   "source": [
    "#4. Write a program to print numbers from 0 to 9 using range()."
   ]
  },
  {
   "cell_type": "code",
   "execution_count": 5,
   "id": "525d04b3-1c7d-4e91-af47-83efcc172040",
   "metadata": {},
   "outputs": [
    {
     "data": {
      "text/plain": [
       "[0, 1, 2, 3, 4, 5, 6, 7, 8, 9]"
      ]
     },
     "execution_count": 5,
     "metadata": {},
     "output_type": "execute_result"
    }
   ],
   "source": [
    "list(range(10))"
   ]
  },
  {
   "cell_type": "code",
   "execution_count": null,
   "id": "c354d8a6-4a63-46e2-8d47-9bf0bb016843",
   "metadata": {},
   "outputs": [],
   "source": [
    "#5. Write a program to print multiplication tables from 1 to 5, but stop after the first table is printed for each number."
   ]
  },
  {
   "cell_type": "code",
   "execution_count": 7,
   "id": "b14fe0a2-adf1-4ce3-8c1b-914c50cd249f",
   "metadata": {},
   "outputs": [
    {
     "name": "stdout",
     "output_type": "stream",
     "text": [
      "1 * 1 = 1\n",
      "2 * 1 = 2\n",
      "3 * 1 = 3\n",
      "4 * 1 = 4\n",
      "5 * 1 = 5\n"
     ]
    }
   ],
   "source": [
    "  for i in range(1,6):\n",
    "    for j in range(1,2):\n",
    "        print(i, '*', j, '=', i*j)"
   ]
  },
  {
   "cell_type": "code",
   "execution_count": null,
   "id": "2370e305-ccd3-4111-b19f-fb516de50439",
   "metadata": {},
   "outputs": [],
   "source": [
    "#6. Write a program to skip printing even numbers using a while loop."
   ]
  },
  {
   "cell_type": "code",
   "execution_count": 6,
   "id": "6243617d-25c9-4474-a203-1e65aff9441a",
   "metadata": {},
   "outputs": [
    {
     "name": "stdout",
     "output_type": "stream",
     "text": [
      "1\n",
      "3\n",
      "5\n",
      "7\n",
      "9\n"
     ]
    }
   ],
   "source": [
    "n=10\n",
    "i=1\n",
    "while i<n:\n",
    "    print(i)\n",
    "    i=i+2"
   ]
  }
 ],
 "metadata": {
  "kernelspec": {
   "display_name": "Python 3 (ipykernel)",
   "language": "python",
   "name": "python3"
  },
  "language_info": {
   "codemirror_mode": {
    "name": "ipython",
    "version": 3
   },
   "file_extension": ".py",
   "mimetype": "text/x-python",
   "name": "python",
   "nbconvert_exporter": "python",
   "pygments_lexer": "ipython3",
   "version": "3.10.8"
  }
 },
 "nbformat": 4,
 "nbformat_minor": 5
}

{
 "cells": [
  {
   "cell_type": "code",
   "execution_count": null,
   "id": "4042e04b-9d48-469d-9ead-0362d7da4408",
   "metadata": {},
   "outputs": [],
   "source": [
    "Q1.Explain the significance of python keywords and provide examples of five keywords.\n",
    "\n",
    "Ans:Python keywords are some predefined and reserved words in python that have special meanings. Keywords are used to define the syntax of the coding.The keyword cannot be used as an identifier, function or variable name. \n",
    "\n",
    "Examples of five python keywords are:-\n",
    "a.Value Keywords: True, False, None.\n",
    "b.Operator keywords: and, or, not, in, is.\n",
    "c.Control flow keywords: if, elif, else.\n",
    "d.Iteration keywords: for, while, break, continue, else.\n",
    "e.Structure keywords: def, class, with, as, pass, lambda."
   ]
  },
  {
   "cell_type": "code",
   "execution_count": null,
   "id": "5db0a39f-6ac7-422e-bdd7-6db99b873e1f",
   "metadata": {},
   "outputs": [],
   "source": [
    "Q2.Describe the rules for defining identifiers in python and provide an example.\n",
    "\n",
    "Ans: Rules for defining identifiers in python are:-\n",
    "a. It cannot be a reserved python keyword\n",
    "b. It should not contain white space\n",
    "c.It can be a combination of A-Z, a-z, 0-9 or underscore\n",
    "d. It should start with an alphabet character or an underscore(_)\n",
    "e. It should not contain any special character other than an underscore(_)\n",
    "\n",
    "Examples:\n",
    "\n",
    "Valid identifiers:\n",
    "i. var1\n",
    "ii. _var1\n",
    "iii. _1_var\n",
    "iv. var_1\n",
    "\n",
    "Invalid Identifiers:\n",
    "i. !var1\n",
    "ii. 1var\n",
    "iii. 1_var\n",
    "iv. var#1\n",
    "v. var 1"
   ]
  },
  {
   "cell_type": "code",
   "execution_count": null,
   "id": "2f04ee8f-414c-4684-b3fe-6760f602f36d",
   "metadata": {},
   "outputs": [],
   "source": [
    "Q3. What are comments in python, and why are they useful? Provide an example\n",
    "\n",
    "Ans: Python comments are simple sentences that we use to make the code easier to understand. They explain our way of thinking and describe every step that we take to solve a coding problem.These sentences are not read by the python interpreter when it executes the code. The easiest way to add a comment to our code is to include a \"#\" sign at the beginning of our sentence.We can also use string literals that are not assigned to any variable as comments in python.\n",
    "\n",
    "They are useful because:-\n",
    "i. It increases readability\n",
    "ii. It explains the code to others\n",
    "iii. It helps in understanding the code easily after a long-term\n",
    "iv. It includes resources\n",
    "v. Helps in re-using the existing code\n",
    "\n",
    "Examples:\n",
    "\n",
    "a. Single-Line Comments: A single line comments begins with a hash(#) symbol and helps mention that the whole line should be considered a comment until the end.\n",
    "\n",
    "b. Multi line comment: A multi line comment is helpful when we need to comment on many lines. We can also use a single-line comment, but using a multi-line instead of a single-line comment is easy to comment on multiple lines. In python, triple double quotes (\"\"\") and single quotes(''') are used for multi-line commenting.It is used at the beginning and end of the block to comment on the entire block.Hence it is also called block comments.\n"
   ]
  },
  {
   "cell_type": "code",
   "execution_count": null,
   "id": "5fcf7b06-393c-4c20-9c48-b4e8178408eb",
   "metadata": {},
   "outputs": [],
   "source": [
    "Q4.Why is proper indentation important in python?\n",
    "\n",
    "Ans: Indentation plays a crucial role in python programming. It is a unique feature of the language that sets it apart from other programming languages. In python, indentation is used to define the structure and hierarchy of the code. It helps in visually organizing the code and making it more readable.Indentation is important in Python, it helps in defining the structure and hierarchy of the code. By visually representing the nesting of code blocks, indentation makes the code more readable and understandable.It allows programmers to quickly identify the beginning and end of code blocks. Indentation is crucial for the proper execution of the code. Indentation is used to determine the scope of statements within a block.    "
   ]
  },
  {
   "cell_type": "code",
   "execution_count": null,
   "id": "69a4dac3-9933-40fb-9a73-b654eac0bfb2",
   "metadata": {},
   "outputs": [],
   "source": [
    "Q5. What happens if indentation is incorrect in python?\n",
    "\n",
    "Ans: Incorrect indentation can result in syntax errors and impact the logical structure of our code. Python relies on consistent indentation to identify code blocks, so improper indentation may lead to unexpected behaviour or make our code difficult to understand. It's essential to pay attention to indentation to ensure the proper execution of our python programs."
   ]
  },
  {
   "cell_type": "code",
   "execution_count": null,
   "id": "4f344ba6-8e13-4e96-af3c-88f4ead0c415",
   "metadata": {},
   "outputs": [],
   "source": [
    "Q6. Differentiate between expression and statement in python with examples.\n",
    "\n",
    "Ans: Expression: An expression is a combination of operators and operands that is interpreted to produce some other value.In any programming language, an expression is evaluated as per the precedence of its operators. So that if there is more than one operator in an expression, their precedence decides which operation will be performed first.We have many different types of expression in python, they are:\n",
    "a. Constant expressions: These are the expressions that have constant values only.\n",
    "example: x=15+1.3\n",
    "        print(x)\n",
    "b. Arithmetic expression:An arithmetic expression is an combination of numeric values, operators and sometimes parenthesis.\n",
    "example: x=40, y=50\n",
    "        add=x+y\n",
    "        sub=x-y\n",
    "        pro=x*y\n",
    "        print(add)\n",
    "        print(sub)\n",
    "        print(pro)\n",
    "c. Integral expression: These are the kind of expression that produce only integer results after all computations and type conversion.\n",
    "example: a=13, b=12.0\n",
    "        c=a + int(b)\n",
    "        print(c)\n",
    "d. Floating expression: These are the kind of expression that produce floating point numbers as result after all computations and type conversions.\n",
    "example: a=13, b=5\n",
    "         c=a/b\n",
    "         print(c)\n",
    "         \n",
    "\n",
    "Statements: A python statement is an instruction that the python interpreter can execute. There are different types of statement in python language as assignment statements, conditional statements, looping statements, etc. The token character NEWLINE is used to end a statement in python.It signifies that each line of python script contains a statement.Different types of statements are, multi line statements, python conditional an loop statements and python expression statements.Statement in python can be extended to one or more lines using parenthesis(), braces{}, square brackets[], semi colon(;) and continuation character slash(\\).\n",
    "\n",
    "example:\n",
    "Declared using continuation character(\\):\n",
    "s=1+2+3+\\\n",
    "  4+5+6+\\\n",
    "  7+8+9\n",
    "  \n",
    "Declared using parentheses()\n",
    "(1*2*3+7+9)\n",
    "\n",
    "Declared using square brackets[]\n",
    "footballer=['MESSI'\n",
    "            'NEYMAR'\n",
    "            'SUAREZ']\n",
    "\n",
    "Declared using braces{}\n",
    "x={1+2+3+4+\n",
    "    5+6+7+8}\n",
    "    \n",
    "Declared using semicolons(;)\n",
    "flag = 2; ropes = 3; pole = 4;"
   ]
  }
 ],
 "metadata": {
  "kernelspec": {
   "display_name": "Python 3 (ipykernel)",
   "language": "python",
   "name": "python3"
  },
  "language_info": {
   "codemirror_mode": {
    "name": "ipython",
    "version": 3
   },
   "file_extension": ".py",
   "mimetype": "text/x-python",
   "name": "python",
   "nbconvert_exporter": "python",
   "pygments_lexer": "ipython3",
   "version": "3.10.8"
  }
 },
 "nbformat": 4,
 "nbformat_minor": 5
}

{
 "cells": [
  {
   "cell_type": "code",
   "execution_count": null,
   "id": "e5d0a0e0-4930-44c6-beff-6af3d9a402f9",
   "metadata": {},
   "outputs": [],
   "source": [
    "#1.calculate the sum,difference,product and quotient of two numbers"
   ]
  },
  {
   "cell_type": "code",
   "execution_count": 1,
   "id": "3c1b17b3-2cc4-43b5-aea1-884da6a97cfe",
   "metadata": {},
   "outputs": [
    {
     "name": "stdin",
     "output_type": "stream",
     "text": [
      "Enter the first number 50\n",
      "Enter the second number 30\n"
     ]
    },
    {
     "name": "stdout",
     "output_type": "stream",
     "text": [
      "The addition of the two number is: 80\n",
      "The difference of the two number is: 20\n",
      "The product of the two number is: 1500\n",
      "The quotient of the two number is: 1.6666666666666667\n"
     ]
    }
   ],
   "source": [
    "a=int(input(\"Enter the first number\"))\n",
    "b=int(input(\"Enter the second number\"))\n",
    "addition=a+b\n",
    "difference=a-b\n",
    "product=a*b\n",
    "quotient=a/b\n",
    "print(\"The addition of the two number is:\",addition)\n",
    "print(\"The difference of the two number is:\",difference)\n",
    "print(\"The product of the two number is:\",product)\n",
    "print(\"The quotient of the two number is:\",quotient)"
   ]
  },
  {
   "cell_type": "code",
   "execution_count": null,
   "id": "7a02f57e-2eaa-4d21-9573-3856745cacd9",
   "metadata": {},
   "outputs": [],
   "source": [
    "#2.Perform various assignment operation on a variable"
   ]
  },
  {
   "cell_type": "code",
   "execution_count": 17,
   "id": "7c489d66-8c51-4fc4-ac78-99e470c207d7",
   "metadata": {},
   "outputs": [
    {
     "name": "stdin",
     "output_type": "stream",
     "text": [
      "Your number 1= 56\n",
      "Your number 2= 32\n",
      "Your number 3= 98\n",
      "Your number 4= 76\n"
     ]
    },
    {
     "name": "stdout",
     "output_type": "stream",
     "text": [
      "adding 20 with your number1,the result is: 76\n",
      "subtracting 15 with your number2,the result is: 17\n",
      "multiplying with 5 to your number3,the result is: 490\n",
      "dividing with 10 to your number4,the result is: 7.6\n"
     ]
    }
   ],
   "source": [
    "c=int(input(\"Your number 1=\"))\n",
    "d=int(input(\"Your number 2=\"))\n",
    "e=int(input(\"Your number 3=\"))\n",
    "f=int(input(\"Your number 4=\"))\n",
    "c += 20\n",
    "d -= 15\n",
    "e *= 5 \n",
    "f /= 10\n",
    "print(\"adding 20 with your number1,the result is:\",c)\n",
    "print(\"subtracting 15 with your number2,the result is:\",d)\n",
    "print(\"multiplying with 5 to your number3,the result is:\",e)\n",
    "print(\"dividing with 10 to your number4,the result is:\",f)"
   ]
  },
  {
   "cell_type": "code",
   "execution_count": null,
   "id": "282de104-f162-4a0d-90a7-9be38bc4957c",
   "metadata": {},
   "outputs": [],
   "source": [
    "#3.Compare two numbers and print the results"
   ]
  },
  {
   "cell_type": "code",
   "execution_count": 16,
   "id": "2ec38125-2da9-48d1-b05e-95325800da14",
   "metadata": {},
   "outputs": [
    {
     "name": "stdin",
     "output_type": "stream",
     "text": [
      "Enter the first number 56\n",
      "Enter the second number 32\n"
     ]
    },
    {
     "name": "stdout",
     "output_type": "stream",
     "text": [
      "First number is equal to second number: False\n",
      "First number is not equal to second number: True\n",
      "First number is greater than second number: True\n",
      "First number is less than second number: False\n",
      "First number is greater than or equal to second number: True\n",
      "First number is less than or equal to second number: False\n"
     ]
    }
   ],
   "source": [
    "g=int(input(\"Enter the first number\"))\n",
    "h=int(input(\"Enter the second number\"))\n",
    "result1= g==h\n",
    "result2= g!=h\n",
    "result3= g>h\n",
    "result4= g<h\n",
    "result5= g>=h\n",
    "result6= g<=h\n",
    "print(\"First number is equal to second number:\",result1)\n",
    "print(\"First number is not equal to second number:\",result2)\n",
    "print(\"First number is greater than second number:\",result3)\n",
    "print(\"First number is less than second number:\",result4)\n",
    "print(\"First number is greater than or equal to second number:\",result5)\n",
    "print(\"First number is less than or equal to second number:\",result6)"
   ]
  },
  {
   "cell_type": "code",
   "execution_count": null,
   "id": "d88958d3-eb80-43ac-9931-8114a768c9ca",
   "metadata": {},
   "outputs": [],
   "source": [
    "#4.Check conditions using logical operators"
   ]
  },
  {
   "cell_type": "code",
   "execution_count": 2,
   "id": "efb41454-d714-4ec9-a605-e2260e810c6b",
   "metadata": {},
   "outputs": [
    {
     "name": "stdout",
     "output_type": "stream",
     "text": [
      "True\n",
      "False\n",
      "False\n",
      "False\n",
      "True\n",
      "False\n",
      "True\n",
      "True\n"
     ]
    }
   ],
   "source": [
    "a=76\n",
    "b=65\n",
    "c=(a>b) and (a>b)\n",
    "d=(a<b) and (a<b)\n",
    "e=(a<b) and (a>b)\n",
    "f=(a>b) and (a<b)\n",
    "g=(a>b) or (a>b)\n",
    "h=(a<b) or (a<b)\n",
    "i=(a<b) or (a>b)\n",
    "j=(a>b) or (a<b)\n",
    "print(c)\n",
    "print(d)\n",
    "print(e)\n",
    "print(f)\n",
    "print(g)\n",
    "print(h)\n",
    "print(i)\n",
    "print(j)"
   ]
  },
  {
   "cell_type": "code",
   "execution_count": null,
   "id": "498421e9-2ea9-443b-b094-94a48200535f",
   "metadata": {},
   "outputs": [],
   "source": [
    "#5.Check the identity of variables"
   ]
  },
  {
   "cell_type": "code",
   "execution_count": 9,
   "id": "ea783f58-2bbe-4aaf-9a4d-79c9d94e64a7",
   "metadata": {},
   "outputs": [
    {
     "name": "stdout",
     "output_type": "stream",
     "text": [
      "False\n",
      "True\n",
      "False\n",
      "True\n",
      "True\n",
      "False\n"
     ]
    }
   ],
   "source": [
    "a=56\n",
    "b=65\n",
    "c=56\n",
    "d=a is b\n",
    "e=a is c\n",
    "f=b is c\n",
    "g=b is not c\n",
    "h=a is not b\n",
    "i=a is not c\n",
    "print(d)\n",
    "print(e)\n",
    "print(f)\n",
    "print(g)\n",
    "print(h)\n",
    "print(i)"
   ]
  },
  {
   "cell_type": "code",
   "execution_count": null,
   "id": "82f89c2d-94f9-4891-b0d8-8872b788f0b3",
   "metadata": {},
   "outputs": [],
   "source": [
    "#6.Perform bitwise operations on any two integers"
   ]
  },
  {
   "cell_type": "code",
   "execution_count": 16,
   "id": "88b74d69-625c-40ca-b812-5a1ccc5817cb",
   "metadata": {},
   "outputs": [
    {
     "name": "stdin",
     "output_type": "stream",
     "text": [
      "Enter the first number 280\n",
      "Enter the second number 3\n"
     ]
    },
    {
     "name": "stdout",
     "output_type": "stream",
     "text": [
      "Bitwise AND result: 0\n",
      "Bitwise OR result: 283\n",
      "Bitwise XOR result: 283\n",
      "Left shift result: 2240\n",
      "Right shift result: 35\n"
     ]
    }
   ],
   "source": [
    "a=int(input(\"Enter the first number\"))\n",
    "b=int(input(\"Enter the second number\"))\n",
    "c=a&b\n",
    "d=a|b\n",
    "e=a^b\n",
    "f=a<<b\n",
    "g=a>>b\n",
    "print(\"Bitwise AND result:\",c)\n",
    "print(\"Bitwise OR result:\",d)\n",
    "print(\"Bitwise XOR result:\",e)\n",
    "print(\"Left shift result:\",f)\n",
    "print(\"Right shift result:\",g)"
   ]
  },
  {
   "cell_type": "code",
   "execution_count": null,
   "id": "80e3e89f-3337-40b5-ab57-be8ea577fc05",
   "metadata": {},
   "outputs": [],
   "source": [
    "#7.Use unary operators to change the sign of a number"
   ]
  },
  {
   "cell_type": "code",
   "execution_count": 21,
   "id": "89af8d85-9b37-4740-abf1-c180f3290622",
   "metadata": {},
   "outputs": [
    {
     "name": "stdin",
     "output_type": "stream",
     "text": [
      "Enter any positive number 54\n"
     ]
    },
    {
     "name": "stdout",
     "output_type": "stream",
     "text": [
      "result= -54\n"
     ]
    }
   ],
   "source": [
    "a=int(input(\"Enter any positive number\"))\n",
    "result=-a\n",
    "print(\"result=\", result)"
   ]
  },
  {
   "cell_type": "code",
   "execution_count": null,
   "id": "cc72ed0e-7832-46e2-b629-bb5907a54fb5",
   "metadata": {},
   "outputs": [],
   "source": [
    "#8.Use the ternary operator to assign values based on conditions"
   ]
  },
  {
   "cell_type": "code",
   "execution_count": 1,
   "id": "dc84380f-0abf-4616-af37-c6d0baabc087",
   "metadata": {},
   "outputs": [
    {
     "name": "stdin",
     "output_type": "stream",
     "text": [
      "Enter first number 56\n",
      "Enter second number 24\n"
     ]
    },
    {
     "name": "stdout",
     "output_type": "stream",
     "text": [
      "Result: 56\n"
     ]
    }
   ],
   "source": [
    "a=int(input(\"Enter first number\"))\n",
    "b=int(input(\"Enter second number\"))\n",
    "c= a if a>b else b\n",
    "print (\"Result:\",c)"
   ]
  },
  {
   "cell_type": "code",
   "execution_count": null,
   "id": "bc76addd-e354-4306-8b08-6ef8dd8bd52a",
   "metadata": {},
   "outputs": [],
   "source": []
  }
 ],
 "metadata": {
  "kernelspec": {
   "display_name": "Python 3 (ipykernel)",
   "language": "python",
   "name": "python3"
  },
  "language_info": {
   "codemirror_mode": {
    "name": "ipython",
    "version": 3
   },
   "file_extension": ".py",
   "mimetype": "text/x-python",
   "name": "python",
   "nbconvert_exporter": "python",
   "pygments_lexer": "ipython3",
   "version": "3.10.8"
  }
 },
 "nbformat": 4,
 "nbformat_minor": 5
}

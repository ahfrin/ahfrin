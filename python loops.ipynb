{
 "cells": [
  {
   "cell_type": "code",
   "execution_count": null,
   "id": "c1192ba7-c5b4-4cb1-884d-feb2db13121c",
   "metadata": {},
   "outputs": [],
   "source": [
    "#1.Print numbers from 1 to 5 using a while loop."
   ]
  },
  {
   "cell_type": "code",
   "execution_count": 1,
   "id": "4732e98c-f5ab-41b2-9613-e4d7aa48e8a7",
   "metadata": {},
   "outputs": [
    {
     "name": "stdout",
     "output_type": "stream",
     "text": [
      "1\n",
      "2\n",
      "3\n",
      "4\n",
      "5\n"
     ]
    }
   ],
   "source": [
    "i=1\n",
    "n=5\n",
    "while i<=n:\n",
    "    print(i)\n",
    "    i=i+1"
   ]
  },
  {
   "cell_type": "code",
   "execution_count": null,
   "id": "301753d1-5397-4730-9a30-8be7f1a84d39",
   "metadata": {},
   "outputs": [],
   "source": [
    "#2.Calculate the sum of numbers from 1 to 10 using a while loop."
   ]
  },
  {
   "cell_type": "code",
   "execution_count": 3,
   "id": "d00e2510-fb91-4da4-96d2-b1797871b2fd",
   "metadata": {},
   "outputs": [
    {
     "name": "stdout",
     "output_type": "stream",
     "text": [
      "The sum of numbers from 1 to 10 is 55\n"
     ]
    }
   ],
   "source": [
    "n=10\n",
    "i=1\n",
    "b=0\n",
    "while i<=n:\n",
    "    b=b+i\n",
    "    i+=1\n",
    "print(\"The sum of numbers from 1 to 10 is\",b)"
   ]
  },
  {
   "cell_type": "code",
   "execution_count": null,
   "id": "48700c49-9a06-465b-82ba-a816f5bb40d2",
   "metadata": {},
   "outputs": [],
   "source": [
    "#3.Calculate the factorial of a number using a for loop"
   ]
  },
  {
   "cell_type": "code",
   "execution_count": 8,
   "id": "d55bf197-cef7-4cca-89c2-69df7f2e3372",
   "metadata": {},
   "outputs": [
    {
     "name": "stdin",
     "output_type": "stream",
     "text": [
      "Enter a number greater than zero: 7\n"
     ]
    },
    {
     "name": "stdout",
     "output_type": "stream",
     "text": [
      "Factorial of 7 is: 5040\n"
     ]
    }
   ],
   "source": [
    "num=int(input(\"Enter a number greater than zero:\"))\n",
    "factorial=1\n",
    "for i in range(1, num+1):\n",
    "    factorial=factorial*i\n",
    "print(f\"Factorial of {num} is:\", factorial)\n"
   ]
  },
  {
   "cell_type": "code",
   "execution_count": null,
   "id": "b28bfcff-56d1-4162-8c03-33303e82f503",
   "metadata": {},
   "outputs": [],
   "source": [
    "#4.Count the number of vowels in a string using a for loop"
   ]
  },
  {
   "cell_type": "code",
   "execution_count": 9,
   "id": "f4b0cbaa-6a05-44a2-bf58-5006e70f4ef8",
   "metadata": {},
   "outputs": [
    {
     "name": "stdin",
     "output_type": "stream",
     "text": [
      "Enter a word or sentence you want to count a vowel in it: hippopotamus\n"
     ]
    },
    {
     "name": "stdout",
     "output_type": "stream",
     "text": [
      "Number of vowels in 'hippopotamus' is: 5\n"
     ]
    }
   ],
   "source": [
    "a=input(\"Enter a word or sentence you want to count a vowel in it:\")\n",
    "vowel='aeiouAEIOU'\n",
    "count=0\n",
    "for char in a:\n",
    "    if char in vowel:\n",
    "        count+=1\n",
    "print(f\"Number of vowels in '{a}' is:\", count)\n"
   ]
  },
  {
   "cell_type": "code",
   "execution_count": null,
   "id": "96872f2e-2dda-457e-9f01-7396ac2888e2",
   "metadata": {},
   "outputs": [],
   "source": [
    "#5.Print a pattern using nested loops."
   ]
  },
  {
   "cell_type": "code",
   "execution_count": 10,
   "id": "de1ab20a-afc3-40b1-be88-036e972d7ed9",
   "metadata": {},
   "outputs": [
    {
     "name": "stdout",
     "output_type": "stream",
     "text": [
      "* \n",
      "* * \n",
      "* * * \n",
      "* * * * \n",
      "* * * * * \n",
      "* * * * * * \n",
      "* * * * * * * \n",
      "* * * * * * * * \n",
      "* * * * * * * * * \n"
     ]
    }
   ],
   "source": [
    "for i in range (9):\n",
    "    for j in range(i+1):\n",
    "        print('*', end = \" \")\n",
    "    print()"
   ]
  },
  {
   "cell_type": "code",
   "execution_count": null,
   "id": "9427831b-2655-4e9a-ba63-def7a51af272",
   "metadata": {},
   "outputs": [],
   "source": [
    "#6. Generate a multiplication table using nested loop"
   ]
  },
  {
   "cell_type": "code",
   "execution_count": 11,
   "id": "b96fbe9a-9614-4a10-91cf-113d0b4e8098",
   "metadata": {},
   "outputs": [
    {
     "name": "stdout",
     "output_type": "stream",
     "text": [
      "0 * 1 = 0\n",
      "0 * 2 = 0\n",
      "0 * 3 = 0\n",
      "0 * 4 = 0\n",
      "0 * 5 = 0\n",
      "0 * 6 = 0\n",
      "0 * 7 = 0\n",
      "0 * 8 = 0\n",
      "0 * 9 = 0\n",
      "0 * 10 = 0\n",
      "\n",
      "1 * 1 = 1\n",
      "1 * 2 = 2\n",
      "1 * 3 = 3\n",
      "1 * 4 = 4\n",
      "1 * 5 = 5\n",
      "1 * 6 = 6\n",
      "1 * 7 = 7\n",
      "1 * 8 = 8\n",
      "1 * 9 = 9\n",
      "1 * 10 = 10\n",
      "\n",
      "2 * 1 = 2\n",
      "2 * 2 = 4\n",
      "2 * 3 = 6\n",
      "2 * 4 = 8\n",
      "2 * 5 = 10\n",
      "2 * 6 = 12\n",
      "2 * 7 = 14\n",
      "2 * 8 = 16\n",
      "2 * 9 = 18\n",
      "2 * 10 = 20\n",
      "\n",
      "3 * 1 = 3\n",
      "3 * 2 = 6\n",
      "3 * 3 = 9\n",
      "3 * 4 = 12\n",
      "3 * 5 = 15\n",
      "3 * 6 = 18\n",
      "3 * 7 = 21\n",
      "3 * 8 = 24\n",
      "3 * 9 = 27\n",
      "3 * 10 = 30\n",
      "\n",
      "4 * 1 = 4\n",
      "4 * 2 = 8\n",
      "4 * 3 = 12\n",
      "4 * 4 = 16\n",
      "4 * 5 = 20\n",
      "4 * 6 = 24\n",
      "4 * 7 = 28\n",
      "4 * 8 = 32\n",
      "4 * 9 = 36\n",
      "4 * 10 = 40\n",
      "\n",
      "5 * 1 = 5\n",
      "5 * 2 = 10\n",
      "5 * 3 = 15\n",
      "5 * 4 = 20\n",
      "5 * 5 = 25\n",
      "5 * 6 = 30\n",
      "5 * 7 = 35\n",
      "5 * 8 = 40\n",
      "5 * 9 = 45\n",
      "5 * 10 = 50\n",
      "\n",
      "6 * 1 = 6\n",
      "6 * 2 = 12\n",
      "6 * 3 = 18\n",
      "6 * 4 = 24\n",
      "6 * 5 = 30\n",
      "6 * 6 = 36\n",
      "6 * 7 = 42\n",
      "6 * 8 = 48\n",
      "6 * 9 = 54\n",
      "6 * 10 = 60\n",
      "\n",
      "7 * 1 = 7\n",
      "7 * 2 = 14\n",
      "7 * 3 = 21\n",
      "7 * 4 = 28\n",
      "7 * 5 = 35\n",
      "7 * 6 = 42\n",
      "7 * 7 = 49\n",
      "7 * 8 = 56\n",
      "7 * 9 = 63\n",
      "7 * 10 = 70\n",
      "\n",
      "8 * 1 = 8\n",
      "8 * 2 = 16\n",
      "8 * 3 = 24\n",
      "8 * 4 = 32\n",
      "8 * 5 = 40\n",
      "8 * 6 = 48\n",
      "8 * 7 = 56\n",
      "8 * 8 = 64\n",
      "8 * 9 = 72\n",
      "8 * 10 = 80\n",
      "\n",
      "9 * 1 = 9\n",
      "9 * 2 = 18\n",
      "9 * 3 = 27\n",
      "9 * 4 = 36\n",
      "9 * 5 = 45\n",
      "9 * 6 = 54\n",
      "9 * 7 = 63\n",
      "9 * 8 = 72\n",
      "9 * 9 = 81\n",
      "9 * 10 = 90\n",
      "\n",
      "10 * 1 = 10\n",
      "10 * 2 = 20\n",
      "10 * 3 = 30\n",
      "10 * 4 = 40\n",
      "10 * 5 = 50\n",
      "10 * 6 = 60\n",
      "10 * 7 = 70\n",
      "10 * 8 = 80\n",
      "10 * 9 = 90\n",
      "10 * 10 = 100\n",
      "\n"
     ]
    }
   ],
   "source": [
    "for i in range (11):\n",
    "    for j in range(1,11):\n",
    "        print(i, '*' , j, '=' , i*j )\n",
    "    print()"
   ]
  },
  {
   "cell_type": "code",
   "execution_count": null,
   "id": "acbce2d3-7a00-457b-975b-f703c78d8128",
   "metadata": {},
   "outputs": [],
   "source": []
  }
 ],
 "metadata": {
  "kernelspec": {
   "display_name": "Python 3 (ipykernel)",
   "language": "python",
   "name": "python3"
  },
  "language_info": {
   "codemirror_mode": {
    "name": "ipython",
    "version": 3
   },
   "file_extension": ".py",
   "mimetype": "text/x-python",
   "name": "python",
   "nbconvert_exporter": "python",
   "pygments_lexer": "ipython3",
   "version": "3.10.8"
  }
 },
 "nbformat": 4,
 "nbformat_minor": 5
}
